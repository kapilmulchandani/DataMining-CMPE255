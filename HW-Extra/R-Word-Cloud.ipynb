{
  "nbformat": 4,
  "nbformat_minor": 0,
  "metadata": {
    "kernelspec": {
      "display_name": "R (R-Project)",
      "language": "r",
      "metadata": {
        "cocalc": {
          "description": "R statistical programming language",
          "priority": 10,
          "url": "https://www.r-project.org/"
        }
      },
      "name": "ir"
    },
    "language_info": {
      "codemirror_mode": "r",
      "file_extension": ".r",
      "mimetype": "text/x-r-source",
      "name": "R",
      "pygments_lexer": "r",
      "version": "3.6.1"
    },
    "colab": {
      "name": "Problem_1d_WordCloud_r.ipynb",
      "provenance": []
    }
  },
  "cells": [
    {
      "cell_type": "markdown",
      "metadata": {
        "collapsed": false,
        "id": "a0jAe_qGFACO",
        "colab_type": "text"
      },
      "source": [
        "Problem 1d) Generate the same wordcloud for the same document using R."
      ]
    },
    {
      "cell_type": "code",
      "metadata": {
        "id": "CmSl-3wxFACR",
        "colab_type": "code",
        "colab": {}
      },
      "source": [
        "library(\"pdftools\") # to convert pdf to text\n",
        "library(\"tm\") # tools to work with text\n",
        "library(\"wordcloud\") # generate the wordcloud\n",
        "library(\"RColorBrewer\") # color palette \n",
        "library(\"Cairo\") # antialiasing for better graphics\n",
        "options( warn = -1 )"
      ],
      "execution_count": 0,
      "outputs": []
    },
    {
      "cell_type": "code",
      "metadata": {
        "id": "KREtMmWYFACV",
        "colab_type": "code",
        "colab": {}
      },
      "source": [
        "file <- \"https://towardsdatascience.com/predicting-premier-league-odds-from-ea-player-bfdb52597392\"\n",
        "tex <- readLines(file)"
      ],
      "execution_count": 0,
      "outputs": []
    },
    {
      "cell_type": "code",
      "metadata": {
        "id": "xZpRn1alFACa",
        "colab_type": "code",
        "colab": {}
      },
      "source": [
        "docs <- Corpus(VectorSource(tex))"
      ],
      "execution_count": 0,
      "outputs": []
    },
    {
      "cell_type": "code",
      "metadata": {
        "id": "exmAonMqFACd",
        "colab_type": "code",
        "colab": {}
      },
      "source": [
        "docs <- tm_map(docs, content_transformer(tolower))"
      ],
      "execution_count": 0,
      "outputs": []
    },
    {
      "cell_type": "code",
      "metadata": {
        "id": "TCkgteA6FACh",
        "colab_type": "code",
        "colab": {}
      },
      "source": [
        "docs <- tm_map(docs, removeNumbers)"
      ],
      "execution_count": 0,
      "outputs": []
    },
    {
      "cell_type": "code",
      "metadata": {
        "id": "LRx9K5FgFACl",
        "colab_type": "code",
        "colab": {}
      },
      "source": [
        "docs <- tm_map(docs, removeWords, stopwords(\"english\"))"
      ],
      "execution_count": 0,
      "outputs": []
    },
    {
      "cell_type": "code",
      "metadata": {
        "id": "iW39dgqaFACp",
        "colab_type": "code",
        "colab": {}
      },
      "source": [
        "docs <- tm_map(docs, removeWords, c(\"president\", \"presidents\", \"also\"))"
      ],
      "execution_count": 0,
      "outputs": []
    },
    {
      "cell_type": "code",
      "metadata": {
        "id": "kl2wqL8xFACs",
        "colab_type": "code",
        "colab": {}
      },
      "source": [
        "docs <- tm_map(docs, removePunctuation)"
      ],
      "execution_count": 0,
      "outputs": []
    },
    {
      "cell_type": "code",
      "metadata": {
        "id": "EZvOF0vSFACw",
        "colab_type": "code",
        "colab": {}
      },
      "source": [
        "docs <- tm_map(docs, stripWhitespace)"
      ],
      "execution_count": 0,
      "outputs": []
    },
    {
      "cell_type": "code",
      "metadata": {
        "id": "9n9fCLDkFACz",
        "colab_type": "code",
        "colab": {}
      },
      "source": [
        "set.seed(1)"
      ],
      "execution_count": 0,
      "outputs": []
    },
    {
      "cell_type": "code",
      "metadata": {
        "id": "SQE4aCVwFAC2",
        "colab_type": "code",
        "colab": {}
      },
      "source": [
        "CairoPNG(\"wordcloud.png\", width = 450, height = 450)"
      ],
      "execution_count": 0,
      "outputs": []
    },
    {
      "cell_type": "code",
      "metadata": {
        "id": "s7aSjpD_FAC6",
        "colab_type": "code",
        "colab": {}
      },
      "source": [
        "wordcloud(words = docs, \n",
        "                  scale=c(5,0.5), # size difference between largest and smallest words\n",
        "                  min.freq = 1,\n",
        "                  max.words = 150, # how many words to plot\n",
        "                  random.order=FALSE, \n",
        "                  rot.per=0.35, # what % of words will be rotated\n",
        "                  colors=brewer.pal(8, \"Dark2\")) # specify the color pallette"
      ],
      "execution_count": 0,
      "outputs": []
    },
    {
      "cell_type": "code",
      "metadata": {
        "id": "QlEjCFr8FXw8",
        "colab_type": "code",
        "colab": {}
      },
      "source": [
        "\n",
        "url = \"http://www.sthda.com/english/wiki/create-and-format-powerpoint-documents-from-r-software\"\n",
        "rquery.wordcloud(x=url, type=\"url\")\n",
        "\n",
        "\n"
      ],
      "execution_count": 0,
      "outputs": []
    },
    {
      "cell_type": "code",
      "metadata": {
        "id": "JMmd2qfiFADA",
        "colab_type": "code",
        "colab": {}
      },
      "source": [
        "dev.off()"
      ],
      "execution_count": 0,
      "outputs": []
    },
    {
      "cell_type": "code",
      "metadata": {
        "id": "B2M0F15bFADD",
        "colab_type": "code",
        "colab": {}
      },
      "source": [
        ""
      ],
      "execution_count": 0,
      "outputs": []
    }
  ]
}